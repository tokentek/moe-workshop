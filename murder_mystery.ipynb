{
 "cells": [
  {
   "cell_type": "code",
   "execution_count": 22,
   "metadata": {},
   "outputs": [],
   "source": [
    "from config import get_model_client_4o\n",
    "from IPython.display import Markdown, display"
   ]
  },
  {
   "cell_type": "code",
   "execution_count": 23,
   "metadata": {},
   "outputs": [],
   "source": [
    "from autogen_agentchat.agents import AssistantAgent, UserProxyAgent\n",
    "from autogen_agentchat.messages import TextMessage, BaseAgentEvent, BaseChatMessage\n",
    "from autogen_core import CancellationToken\n",
    "from autogen_agentchat.conditions import TextMentionTermination\n",
    "from autogen_agentchat.teams import RoundRobinGroupChat, SelectorGroupChat, MagenticOneGroupChat\n",
    "from autogen_agentchat.ui import Console\n",
    "from typing import Callable, Sequence\n",
    "\n",
    "\n",
    "def create_and_get_assistant_agent(\n",
    "        name: str,\n",
    "        description: str,\n",
    "        system_message: str,\n",
    "        tools: list[Callable] = [],\n",
    "        model_client: str = '4o'\n",
    "    ) -> AssistantAgent:\n",
    "\n",
    "    model_client = get_model_client_4o()\n",
    "    return AssistantAgent(\n",
    "        name=name,\n",
    "        description=description,\n",
    "        model_client=model_client,\n",
    "        system_message=system_message,\n",
    "        tools=tools,\n",
    "    )\n",
    "\n",
    "def get_user_proxy_agent() -> UserProxyAgent:\n",
    "    return UserProxyAgent(\n",
    "    name=\"user_proxy\",\n",
    "    input_func=input,\n",
    "    #human_input_mode=\"NEVER\",\n",
    "    #default_auto_reply=\"Please continue if there is anything else you need help with.\",\n",
    "    #max_turns=10\n",
    "    )\n",
    "\n",
    "async def get_agent_response(agent: AssistantAgent, task: str) -> str:\n",
    "    messages = []\n",
    "    messages.append(TextMessage(content=task, source=\"user\"))\n",
    "    response = await agent.on_messages(\n",
    "    messages, CancellationToken()\n",
    "    )\n",
    "    return response.chat_message.content\n"
   ]
  },
  {
   "cell_type": "code",
   "execution_count": 24,
   "metadata": {},
   "outputs": [],
   "source": [
    "## Utils\n",
    "def read_markdown_file(filepath):\n",
    "    \"\"\"\n",
    "    Reads a .md (Markdown) file and returns its content as a string.\n",
    "    \n",
    "    Parameters:\n",
    "        filepath (str): Path to the markdown file.\n",
    "    \n",
    "    Returns:\n",
    "        str: Contents of the markdown file.\n",
    "    \"\"\"\n",
    "    try:\n",
    "        with open(filepath, 'r', encoding='utf-8') as f:\n",
    "            content = f.read()\n",
    "        return content\n",
    "    except FileNotFoundError:\n",
    "        print(f\"File not found: {filepath}\")\n",
    "        return None\n",
    "    except Exception as e:\n",
    "        print(f\"An error occurred while reading the file: {e}\")\n",
    "        return None\n",
    "\n"
   ]
  },
  {
   "cell_type": "code",
   "execution_count": 25,
   "metadata": {},
   "outputs": [
    {
     "name": "stderr",
     "output_type": "stream",
     "text": [
      "/Users/andreakrogdal/repos/moe-workshop/.venv/lib/python3.12/site-packages/autogen_ext/models/openai/_openai_client.py:413: UserWarning: Missing required field 'structured_output' in ModelInfo. This field will be required in a future version of AutoGen.\n",
      "  validate_model_info(self._model_info)\n"
     ]
    }
   ],
   "source": [
    "assistant_clara = create_and_get_assistant_agent(\n",
    "    name='clara',\n",
    "    description='Long-time personal assistant to the late Dr. Felix Lang',\n",
    "    system_message=read_markdown_file('character_system_msgs/assistent_clara.md')\n",
    "    )\n",
    "chef_mario = create_and_get_assistant_agent(\n",
    "    name='mario',\n",
    "    description='Head caterer for the event',\n",
    "    system_message=read_markdown_file('character_system_msgs/chef_mario.md')\n",
    "    )\n",
    "dr_biologist_alina = create_and_get_assistant_agent(\n",
    "    name='alina',\n",
    "    description='Molecular biologist and former colleague of the late Dr. Felix Lang',\n",
    "    system_message=read_markdown_file('character_system_msgs/dr_biologist_alina.md')\n",
    "    )\n",
    "intern_jonas = create_and_get_assistant_agent(\n",
    "    name='jonas',\n",
    "    description='Young intern tasked with tech setup at the gala',\n",
    "    system_message=read_markdown_file('character_system_msgs/intern_jonas.md')\n",
    "    )\n",
    "investor_henrik = create_and_get_assistant_agent(\n",
    "    name='henrik',\n",
    "    description='Major investor in Dr. Lang’s research projectsa',\n",
    "    system_message=read_markdown_file('character_system_msgs/investor_henrik.md')\n",
    "    )\n",
    "journalist_eva = create_and_get_assistant_agent(\n",
    "    name='eva',\n",
    "    description='An investigative journalist known for publishing exposés',\n",
    "    system_message=read_markdown_file('character_system_msgs/journalist_eva.md')\n",
    "    )\n",
    "\n",
    "detective = create_and_get_assistant_agent(\n",
    "    name='detective',\n",
    "    description='A private detective hired by the Lang family to investigate the murder of Dr. Felix Lang',\n",
    "    system_message=read_markdown_file('character_system_msgs/detective.md')\n",
    "    )"
   ]
  },
  {
   "cell_type": "markdown",
   "metadata": {},
   "source": [
    "## Get a response from one character at a time to get a feeling of how you want to select the neext speaker"
   ]
  },
  {
   "cell_type": "code",
   "execution_count": 26,
   "metadata": {},
   "outputs": [
    {
     "data": {
      "text/markdown": [
       "**Initial Analysis**  \n",
       "Dr. Felix Lang, a prominent scientist, met his untimely death at his own green-tie gala in the greenhouse at around 22:10 to 22:15. The murder weapon, a heavy iron sculpture, was found nearby. There are six potential witnesses or suspects, each possessing probable motive, access to the area, and individual behaviors worthy of closer scrutiny. The greenhouse was accessible, and no forced entry was reported, suggesting the killer could have been one of the attendees.\n",
       "\n",
       "---\n",
       "\n",
       "**Investigation Plan**  \n",
       "### Priority of Interviews  \n",
       "1. **Assistant Clara Nyberg**: Closest relationship to Dr. Lang and likely to have detailed knowledge about the victim's routines, potential conflicts, and emotional state leading up to the murder. Clara might also provide insight into his relationship with the other attendees.  \n",
       "2. **Dr. Alina Weber**: As a former colleague of Dr. Lang and another scientist, Alina might have professional tensions or rivalries with Dr. Lang. Scientists often communicate deeply about work, so there may be useful leads regarding research-related motives.  \n",
       "3. **Henrik Falk**: A major investor in Dr. Lang’s projects might have financial motives, disputes, or stress linked to the victim’s work. Henrik is unlikely to be physically connected with the murder weapon, but tensions over funding could be key.  \n",
       "4. **Eva Sörman**: Being an investigative journalist known for exposés, Eva might have been digging into Dr. Lang’s personal or professional life. She could either offer revealing insights or raise suspicion if she had reasons to suppress certain details.  \n",
       "5. **Chef Mario Leto**: Relatively lower priority unless evidence links him closer to the greenhouse or the timeline of events (e.g., unusual noises, catering schedules). Could provide logistical information about attendees' movements or unusual behaviors during service.  \n",
       "6. **Jonas Möller**: The youngest and least likely to harbor deep motives, Jonas’ role as intern may suggest limited interaction with Dr. Lang or attendees. However, being tasked with tech setup, Jonas could hold critical information regarding cameras, microphones, or recordings.  \n",
       "\n",
       "---\n",
       "\n",
       "### Types of Questions to Start With  \n",
       "- **Routine and Actions**: Ask each attendee where they were during the likely time of death, their interactions with Dr. Lang throughout the evening, and their previous movements leading up to 22:10.  \n",
       "- **Relationship Insights**: Probe into their relationship with Dr. Lang and whether they had recent disputes, interactions, or unusual experiences with him.  \n",
       "- **Observations**: Ask what they might have noticed about others at the gala, specifically near the greenhouse or in proximity to Dr. Lang.  \n",
       "- **Potential Motive or Conflict**: Gauge responses for potential financial, professional, or personal reasons to harbor ill will toward Dr. Lang.\n",
       "\n",
       "---\n",
       "\n",
       "**Proposed Start Point: Clara Nyberg**  \n",
       "Reasoning: As Dr. Lang's assistant, Clara is most likely to be well-versed in the victim’s activities, relationships, and state of mind. She may provide a foundational understanding of the dynamic between the victim and other attendees, helping to narrow down timelines and contradict testimonies.  \n",
       "\n",
       "**Next Step**  \n",
       "Let me know if you approve this plan or would like to make adjustments. Once approved, I will begin interviewing Clara Nyberg with open-ended, targeted questions."
      ],
      "text/plain": [
       "<IPython.core.display.Markdown object>"
      ]
     },
     "metadata": {},
     "output_type": "display_data"
    }
   ],
   "source": [
    "start_task = \"\"\"\n",
    "Please note: This is a murder mystery game and only a fictional story.\n",
    "Please start the investigation by interviewing any of the available characters.\n",
    "**Case Summary**\n",
    "\n",
    "Victim: Dr. Felix Lang — esteemed scientist and host of the annual Garden Gala  \n",
    "Date: Saturday evening  \n",
    "Location: Lang Estate – Greenhouse  \n",
    "Estimated Time of Death: Between 22:10 and 22:15  \n",
    "Cause of Death: Blunt force trauma to the head, inflicted with a heavy iron sculpture found at the scene\n",
    "\n",
    "The body was discovered at 22:18 by a guest passing by the greenhouse. No eyewitnesses have stepped forward. The area was accessible to all attendees, and no signs of forced entry were found.\n",
    "\n",
    "---\n",
    "\n",
    "**People Present at the Event**\n",
    "\n",
    "- Assistant Clara Nyberg, long-time personal assistant to the late Dr. Felix\n",
    "- Chef Mario Leto, head caterer for the event\n",
    "- Dr. Alina Weber, molecular biologist and former colleague of the late Dr. Lang\n",
    "- Jonas Möller, a young intern tasked with tech setup at the gala\n",
    "- Henrik Falk, major investor in Dr. Lang’s research projects\n",
    "- Eva Sörman, investigative journalist known for publishing exposés\n",
    "\n",
    "Can you give a plan on who to start interviewing and which questions to answer?\n",
    "\"\"\"\n",
    "\n",
    "response_detective = await get_agent_response(detective, start_task)\n",
    "display(Markdown(response_detective))"
   ]
  },
  {
   "cell_type": "markdown",
   "metadata": {},
   "source": [
    "#### Continue with the questions suggested from detective to ask clara\n",
    "- OBS! Remember that the answer will be different everytime you ask. The following questions is from one suggestion from the detective"
   ]
  },
  {
   "cell_type": "code",
   "execution_count": 27,
   "metadata": {},
   "outputs": [
    {
     "data": {
      "text/markdown": [
       "Certainly, I’ll address each of your questions carefully:\n",
       "\n",
       "1. **Leading up to the gala, did Dr. Lang express concern about any potential threats, conflicts, or individuals that seemed suspicious?**  \n",
       "   Dr. Lang did not specifically discuss threats or concerns with me in the days leading up to the gala. However, he often balanced a demanding professional life, and tensions in such roles are not unusual. While he was a respected figure, his work involved tough decisions that may not have always pleased everyone. I’m not sure that’s relevant, though.  \n",
       "\n",
       "2. **Could you describe Dr. Lang's demeanor during the gala? Did anything seem out of the ordinary?**  \n",
       "   Dr. Lang appeared composed, though perhaps a little preoccupied. He had several conversations throughout the evening, mostly with donors and board members. Nothing struck me as overtly out of the ordinary about his demeanor during the event, though as someone who worked closely with him, I could tell he had a lot on his mind—he had some major decisions looming, professionally speaking.  \n",
       "\n",
       "3. **Where were you between 22:00 and 22:20, and what were you doing? Did you notice anyone near the greenhouse at that time?**  \n",
       "   Between 22:00 and 22:20, I was coordinating logistics for Dr. Lang’s exit and ensuring that refreshments would be replenished for late-staying guests. I wasn’t near the greenhouse during that time, nor do I recall seeing anyone there. The greenhouse is a bit tucked away from the main garden path, and I don’t believe it was a point of focus for guests during that period.  \n",
       "\n",
       "4. **Are you aware of any disputes or tensions involving Dr. Lang—legal, financial, or personal—that could have provoked someone?**  \n",
       "   Dr. Lang’s position naturally drew him into situations requiring firm leadership, which can sometimes cause friction. He was managing some organizational changes, including budget decisions and personnel matters, which could potentially upset certain individuals. Beyond that professional scope, I’m not privy to any deeply personal disputes or legal issues he may have had.  \n",
       "\n",
       "If you need further clarification, I’m happy to assist within my scope of knowledge."
      ],
      "text/plain": [
       "<IPython.core.display.Markdown object>"
      ]
     },
     "metadata": {},
     "output_type": "display_data"
    }
   ],
   "source": [
    "task_clara = \"\"\"\n",
    "The detective want you to answer the following questions regarding the murder of Dr. Felix Lang:\n",
    "  - Leading up to the gala, did Dr. Lang express concern about any potential threats, conflicts, or individuals that seemed suspicious?  \n",
    "  - Could you describe Dr. Lang's demeanor during the gala? Did anything seem out of the ordinary?  \n",
    "  - Where were you between 22:00 and 22:20, and what were you doing? Did you notice anyone near the greenhouse at that time?  \n",
    "  - Are you aware of any disputes or tensions involving Dr. Lang—legal, financial, or personal—that could have provoked someone?  \n",
    "\"\"\"\n",
    "\n",
    "response_clara = await get_agent_response(assistant_clara, task_clara)\n",
    "display(Markdown(response_clara))"
   ]
  },
  {
   "cell_type": "markdown",
   "metadata": {},
   "source": [
    "### Chat with one character with human in the loop\n",
    "- RoundRobinGroupChat do not itself has an intelligent state. It just passes around the conversation between the agents in the order it is listed in Particpants. "
   ]
  },
  {
   "cell_type": "code",
   "execution_count": 19,
   "metadata": {},
   "outputs": [],
   "source": [
    "termination = TextMentionTermination(\"DONE\")\n",
    "chat_with_clara = RoundRobinGroupChat(\n",
    "    participants=[assistant_clara,get_user_proxy_agent()],\n",
    "    termination_condition=termination,\n",
    "    max_turns=5\n",
    "    )"
   ]
  },
  {
   "cell_type": "code",
   "execution_count": null,
   "metadata": {},
   "outputs": [],
   "source": [
    "\n",
    "task_clara = \"\"\"\n",
    "The detective want you to answer the following questions regarding the murder of Dr. Felix Lang:\n",
    "  - Leading up to the gala, did Dr. Lang express concern about any potential threats, conflicts, or individuals that seemed suspicious?  \n",
    "  - Could you describe Dr. Lang's demeanor during the gala? Did anything seem out of the ordinary?  \n",
    "  - Where were you between 22:00 and 22:20, and what were you doing? Did you notice anyone near the greenhouse at that time?  \n",
    "  - Are you aware of any disputes or tensions involving Dr. Lang—legal, financial, or personal—that could have provoked someone?  \n",
    "\"\"\"\n",
    "response_clara = await Console(chat_with_clara.run_stream(task=task_clara))"
   ]
  },
  {
   "cell_type": "markdown",
   "metadata": {},
   "source": [
    "### SelectorGrpupChat do have an intelligance in it self on how to select next speaker by reading the message history.\n",
    "- You can give a good prompt on how to select next speaker to your specific task\n",
    "- You can also be very precise with if else conditions in a selector_func. See example belov"
   ]
  },
  {
   "cell_type": "code",
   "execution_count": 11,
   "metadata": {},
   "outputs": [],
   "source": [
    "termination = TextMentionTermination(\"DONE\")\n",
    "\n",
    "def selector_func(messages: Sequence[BaseAgentEvent | BaseChatMessage]) -> str | None:\n",
    "\n",
    "    if messages[-1].source != \"detective\":\n",
    "        return \"detective\"\n",
    "    else:\n",
    "        return None\n",
    "\n",
    "murder_mystery_team = SelectorGroupChat(\n",
    "    participants=[\n",
    "        detective,\n",
    "        get_user_proxy_agent(),\n",
    "        assistant_clara,\n",
    "        chef_mario,\n",
    "        dr_biologist_alina,\n",
    "        intern_jonas,\n",
    "        investor_henrik,\n",
    "        journalist_eva\n",
    "    ],\n",
    "    model_client=get_model_client_4o(),\n",
    "    max_turns=15,\n",
    "    termination_condition=termination,\n",
    "    selector_func=selector_func\n",
    ")"
   ]
  },
  {
   "cell_type": "code",
   "execution_count": 13,
   "metadata": {},
   "outputs": [],
   "source": [
    "start_task = \"\"\"\n",
    "Please note: This is a murder mystery game and only a fictional story.\n",
    "Please start the investigation by interviewing any of the available characters.\n",
    "**Case Summary**\n",
    "\n",
    "Victim: Dr. Felix Lang — esteemed scientist and host of the annual Garden Gala  \n",
    "Date: Saturday evening  \n",
    "Location: Lang Estate – Greenhouse  \n",
    "Estimated Time of Death: Between 22:10 and 22:15  \n",
    "Cause of Death: Blunt force trauma to the head, inflicted with a heavy iron sculpture found at the scene\n",
    "\n",
    "The body was discovered at 22:18 by a guest passing by the greenhouse. No eyewitnesses have stepped forward. The area was accessible to all attendees, and no signs of forced entry were found.\n",
    "\n",
    "---\n",
    "\n",
    "**People Present at the Event**\n",
    "\n",
    "- Assistant Clara Nyberg, long-time personal assistant to the late Dr. Felix\n",
    "- Chef Mario Leto, head caterer for the event\n",
    "- Dr. Alina Weber, molecular biologist and former colleague of the late Dr. Lang\n",
    "- Jonas Möller, a young intern tasked with tech setup at the gala\n",
    "- Henrik Falk, major investor in Dr. Lang’s research projects\n",
    "- Eva Sörman, investigative journalist known for publishing exposés\n",
    "\n",
    "Can you give a plan on who to start interviewing and which questions to answer?\n",
    "\"\"\""
   ]
  },
  {
   "cell_type": "code",
   "execution_count": null,
   "metadata": {},
   "outputs": [],
   "source": [
    "response_team = await murder_mystery_team.run(start_task)"
   ]
  }
 ],
 "metadata": {
  "kernelspec": {
   "display_name": ".venv",
   "language": "python",
   "name": "python3"
  },
  "language_info": {
   "codemirror_mode": {
    "name": "ipython",
    "version": 3
   },
   "file_extension": ".py",
   "mimetype": "text/x-python",
   "name": "python",
   "nbconvert_exporter": "python",
   "pygments_lexer": "ipython3",
   "version": "3.12.9"
  }
 },
 "nbformat": 4,
 "nbformat_minor": 2
}
