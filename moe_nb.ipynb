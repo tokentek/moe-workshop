{
 "cells": [
  {
   "cell_type": "code",
   "execution_count": 2,
   "metadata": {},
   "outputs": [],
   "source": [
    "from config import get_model_client_4o, get_model_client_41\n",
    "from IPython.display import Markdown, display"
   ]
  },
  {
   "cell_type": "code",
   "execution_count": 3,
   "metadata": {},
   "outputs": [],
   "source": [
    "from autogen_agentchat.agents import AssistantAgent, UserProxyAgent\n",
    "from autogen_agentchat.messages import TextMessage\n",
    "from autogen_core import CancellationToken\n",
    "from autogen_agentchat.conditions import TextMentionTermination\n",
    "from autogen_agentchat.teams import RoundRobinGroupChat, SelectorGroupChat, MagenticOneGroupChat\n",
    "from autogen_agentchat.ui import Console\n",
    "from typing import Callable\n",
    "\n",
    "\n",
    "def create_and_get_assistant_agent(\n",
    "        name: str,\n",
    "        description: str,\n",
    "        system_message: str,\n",
    "        tools: list[Callable] = [],\n",
    "        model_client: str = '4o'\n",
    "    ) -> AssistantAgent:\n",
    "    if model_client == '4o':\n",
    "        model_client = get_model_client_4o()\n",
    "    elif model_client == '41':\n",
    "        model_client = get_model_client_41()    \n",
    "    return AssistantAgent(\n",
    "        name=name,\n",
    "        description=description,\n",
    "        model_client=model_client,\n",
    "        system_message=system_message,\n",
    "        tools=tools\n",
    "    )\n",
    "\n",
    "\n",
    "def get_user_proxy_agent() -> UserProxyAgent:\n",
    "    return UserProxyAgent(\n",
    "    name=\"user_proxy\",\n",
    "    input_func=input,\n",
    "    #human_input_mode=\"NEVER\",\n",
    "    #default_auto_reply=\"Please continue if there is anything else you need help with.\",\n",
    "    #max_turns=10\n",
    "    )\n",
    "\n",
    "async def get_agent_response(agent: AssistantAgent, task: str) -> str:\n",
    "    messages = []\n",
    "    messages.append(TextMessage(content=task, source=\"user\"))\n",
    "    response = await agent.on_messages(\n",
    "    messages, CancellationToken()\n",
    "    )\n",
    "    return response.chat_message.content\n"
   ]
  },
  {
   "cell_type": "markdown",
   "metadata": {},
   "source": [
    "## Create an Agent and ask a question"
   ]
  },
  {
   "cell_type": "code",
   "execution_count": 10,
   "metadata": {},
   "outputs": [
    {
     "name": "stderr",
     "output_type": "stream",
     "text": [
      "/Users/andreakrogdal/repos/moe-workshop/.venv/lib/python3.12/site-packages/autogen_ext/models/openai/_openai_client.py:413: UserWarning: Missing required field 'structured_output' in ModelInfo. This field will be required in a future version of AutoGen.\n",
      "  validate_model_info(self._model_info)\n"
     ]
    },
    {
     "data": {
      "text/markdown": [
       "The capital of France is **Paris**."
      ],
      "text/plain": [
       "<IPython.core.display.Markdown object>"
      ]
     },
     "metadata": {},
     "output_type": "display_data"
    }
   ],
   "source": [
    "geography_agent = create_and_get_assistant_agent(\n",
    "    name=\"geography_agent\",\n",
    "    description=\"A helpful assistant that can answer questions about geography.\",\n",
    "    system_message=\"You are a helpful assistant that can answer questions about geography.\"\n",
    ")\n",
    "\n",
    "response = await get_agent_response(geography_agent, \"What is the capital of France?\")\n",
    "display(Markdown(response))"
   ]
  },
  {
   "cell_type": "markdown",
   "metadata": {},
   "source": [
    "## Create a team with an agent and a human in the loop"
   ]
  },
  {
   "cell_type": "markdown",
   "metadata": {},
   "source": [
    "### Adding function tools which the agent uses to get correct information\n"
   ]
  },
  {
   "cell_type": "code",
   "execution_count": 4,
   "metadata": {},
   "outputs": [],
   "source": [
    "async def get_weather(location: str) -> str:\n",
    "    \"\"\"\n",
    "   Return the current weather based on location\n",
    "    \"\"\"\n",
    "    if location == \"Oslo\":          \n",
    "        return \"The weather in Oslo is sunny.\"\n",
    "    elif location == \"Stockholm\":\n",
    "        return \"The weather in Stockholm is cloudy.\"\n",
    "    else:\n",
    "        return f\"Sorry, I don't know the weather in {location}.\"\n",
    "\n",
    "async def get_news(location: str) -> str:\n",
    "    \"\"\"\n",
    "    Return the latest news based on location\n",
    "    \"\"\"\n",
    "    if location == \"Oslo\":\n",
    "        return \"Nothing special is happening in Oslo.\"\n",
    "    elif location == \"Stockholm\":\n",
    "        return \"It is a lot of happening in Stockholm. The king is going to visit the city and Lady Gaga is having a concert in Avicii Arena\"\n",
    "    else:\n",
    "        return f\"Sorry, I don't know the news in {location}.\"\n"
   ]
  },
  {
   "cell_type": "markdown",
   "metadata": {},
   "source": [
    "### Define Agent with the tools"
   ]
  },
  {
   "cell_type": "code",
   "execution_count": null,
   "metadata": {},
   "outputs": [
    {
     "name": "stderr",
     "output_type": "stream",
     "text": [
      "/Users/andreakrogdal/repos/moe-workshop/.venv/lib/python3.12/site-packages/autogen_ext/models/openai/_openai_client.py:413: UserWarning: Missing required field 'structured_output' in ModelInfo. This field will be required in a future version of AutoGen.\n",
      "  validate_model_info(self._model_info)\n"
     ]
    }
   ],
   "source": [
    "nordic_travel_agent = create_and_get_assistant_agent(\n",
    "    name=\"nordic_travel_agent\",\n",
    "    description=\"A helpful assistant that can answer questions about travel in the Nordic countries.\",\n",
    "    system_message=\"You are a helpful assistant that can answer questions about travel in the Nordic countries.\",\n",
    "    tools=[get_weather, get_news]\n",
    ")\n"
   ]
  },
  {
   "cell_type": "markdown",
   "metadata": {},
   "source": [
    "### Create a team with the agent and user."
   ]
  },
  {
   "cell_type": "code",
   "execution_count": null,
   "metadata": {},
   "outputs": [],
   "source": [
    "termination = TextMentionTermination(\"DONE\")\n",
    "\n",
    "nordic_team = SelectorGroupChat(\n",
    "    participants=[\n",
    "        nordic_travel_agent,\n",
    "        get_user_proxy_agent()\n",
    "    ],\n",
    "    model_client=get_model_client_4o(),\n",
    "    max_turns=15,\n",
    "    termination_condition=termination\n",
    ")"
   ]
  },
  {
   "cell_type": "markdown",
   "metadata": {},
   "source": [
    "### Chat with the travel expert to decide where to travel :)"
   ]
  },
  {
   "cell_type": "code",
   "execution_count": null,
   "metadata": {},
   "outputs": [],
   "source": [
    "task = \"Im going for a trip to either Stockholm or Berlin. Can you give me some information about them which will make it easier for me to decide based on weather and news?\"\n",
    "\n",
    "response = await Console(nordic_team.run_stream(task=task))"
   ]
  }
 ],
 "metadata": {
  "kernelspec": {
   "display_name": ".venv",
   "language": "python",
   "name": "python3"
  },
  "language_info": {
   "codemirror_mode": {
    "name": "ipython",
    "version": 3
   },
   "file_extension": ".py",
   "mimetype": "text/x-python",
   "name": "python",
   "nbconvert_exporter": "python",
   "pygments_lexer": "ipython3",
   "version": "3.12.9"
  }
 },
 "nbformat": 4,
 "nbformat_minor": 2
}
